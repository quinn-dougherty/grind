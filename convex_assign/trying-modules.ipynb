{
 "cells": [
  {
   "cell_type": "code",
   "execution_count": null,
   "metadata": {},
   "outputs": [],
   "source": [
    "from scratch import assignment, names_people, names_projects\n",
    "import random as rn\n",
    "from functools import lru_cache\n",
    "\n",
    "U = assignment(names_people, names_projects).total_utility()\n",
    "\n",
    "U"
   ]
  },
  {
   "cell_type": "code",
   "execution_count": 17,
   "metadata": {},
   "outputs": [],
   "source": [
    "import pandas as pd\n",
    "from mk_csvs import names_projects, preferences_ran\n",
    "\n",
    "projects_names_as_columns = pd.DataFrame(columns=names_projects)\n",
    "student_preferences = pd.DataFrame(preferences_ran)\n",
    "    \n",
    "projects_names_as_columns.to_csv(\"projects_names_as_columns.csv\", index=False)\n",
    "student_preferences.to_csv(\"student_preferences.csv\", index=False)\n"
   ]
  },
  {
   "cell_type": "code",
   "execution_count": 1,
   "metadata": {},
   "outputs": [
    {
     "name": "stdout",
     "output_type": "stream",
     "text": [
      "{'aa': 'Did not match', 'ab': 'Did not match', 'ac': 'Did not match', 'ad': 'Did not match', 'ae': 'Did not match', 'af': 'Did not match', 'ag': 'Did not match', 'ah': 'Did not match', 'ai': 'Did not match', 'aj': 'Did not match', 'ak': 'Did not match', 'al': 'Did not match', 'am': 'Did not match', 'an': 'Did not match', 'ao': 'Did not match', 'ap': 'Did not match', 'aq': 'Did not match', 'ar': 'Did not match', 'as': 'Did not match', 'at': 'Did not match', 'au': 'Did not match', 'av': 'Did not match', 'aw': 'Did not match', 'ax': 'Did not match', 'ay': 'Did not match', 'az': 'Did not match', 'ba': 'Did not match', 'bb': 'Did not match', 'bc': 'Did not match', 'bd': 'Did not match', 'be': 'Did not match', 'bf': 'Did not match', 'bg': 'Did not match', 'bh': 'Did not match', 'bi': 'Did not match', 'bj': 'Did not match', 'bk': 'Did not match', 'bl': 'Did not match', 'bm': 'Did not match', 'bn': 'Did not match', 'bo': 'Did not match', 'bp': 'Did not match', 'bq': 'Did not match', 'br': 'Did not match', 'bs': 'Did not match', 'bt': 'Did not match', 'bu': 'Did not match', 'bv': 'Did not match', 'bw': 'Did not match', 'bx': 'Did not match', 'by': 'Did not match', 'bz': 'Did not match', 'ca': 'Did not match', 'cb': 'Did not match', 'cc': 'Did not match', 'cd': 'Did not match', 'ce': 'Did not match', 'cf': 'Did not match', 'cg': 'Did not match', 'ch': 'Did not match', 'ci': 'Did not match', 'cj': 'Did not match', 'ck': 'Did not match', 'cl': 'Did not match', 'cm': 'Did not match', 'cn': 'Did not match', 'co': 'Did not match', 'cp': 'Did not match', 'cq': 'Did not match', 'cr': 'Did not match', 'cs': 'Did not match', 'ct': 'Did not match', 'cu': 'Did not match', 'cv': 'Did not match', 'cw': 'Did not match', 'cx': 'Did not match', 'cy': 'Did not match', 'cz': 'Did not match', 'da': 'Did not match', 'db': 'Did not match', 'dc': 'Did not match', 'dd': 'Did not match', 'de': 'Did not match', 'df': 'Did not match', 'dg': 'Did not match', 'dh': 'Did not match', 'di': 'Did not match', 'dj': 'Did not match', 'dk': 'Did not match', 'dl': 'Did not match', 'dm': 'Did not match', 'dn': 'Did not match', 'do': 'Did not match', 'dp': 'Did not match', 'dq': 'Did not match', 'dr': 'Did not match', 'ds': 'Did not match', 'dt': 'Did not match', 'du': 'Did not match', 'dv': 'Did not match', 'dw': 'Did not match', 'dx': 'Did not match', 'dy': 'Did not match', 'dz': 'Did not match', 'ea': 'Did not match', 'eb': 'Did not match', 'ec': 'Did not match', 'ed': 'Did not match', 'ee': 'Did not match', 'ef': 'Did not match', 'eg': 'Did not match', 'eh': 'Did not match', 'ei': 'Did not match', 'ej': 'Did not match', 'ek': 'Did not match', 'el': 'Did not match', 'em': 'Did not match', 'en': 'Did not match', 'eo': 'Did not match', 'ep': 'Did not match', 'eq': 'Did not match', 'er': 'Did not match', 'es': 'Did not match', 'et': 'Did not match', 'eu': 'Did not match', 'ev': 'Did not match', 'ew': 'Did not match', 'ex': 'Did not match', 'ey': 'Did not match', 'ez': 'Did not match', 'fa': 'Did not match', 'fb': 'Did not match', 'fc': 'Did not match', 'fd': 'Did not match', 'fe': 'Did not match', 'ff': 'Did not match', 'fg': 'Did not match', 'fh': 'Did not match', 'fi': 'Did not match', 'fj': 'Did not match', 'fk': 'Did not match', 'fl': 'Did not match', 'fm': 'Did not match', 'fn': 'Did not match', 'fo': 'Did not match', 'fp': 'Did not match', 'fq': 'Did not match', 'fr': 'Did not match', 'fs': 'Did not match', 'ft': 'Did not match'}\n",
      "{'aa': 'Did not match', 'ab': 'Did not match', 'ac': 'Did not match', 'ad': 'Did not match', 'ae': 'Did not match', 'af': 'Did not match', 'ag': 'Did not match', 'ah': 'Did not match', 'ai': 'Did not match', 'aj': 'Did not match', 'ak': 'Did not match', 'al': 'Did not match', 'am': 'Did not match', 'an': 'Did not match', 'ao': 'Did not match', 'ap': 'Did not match', 'aq': 'Did not match', 'ar': 'Did not match', 'as': 'Did not match', 'at': 'Did not match', 'au': 'Did not match', 'av': 'Did not match', 'aw': 'Did not match', 'ax': 'Did not match', 'ay': 'Did not match', 'az': 'Did not match', 'ba': 'Did not match', 'bb': 'Did not match', 'bc': 'Did not match', 'bd': 'Did not match', 'be': 'Did not match', 'bf': 'Did not match', 'bg': 'Did not match', 'bh': 'Did not match', 'bi': 'Did not match', 'bj': 'Did not match', 'bk': 'Did not match', 'bl': 'Did not match', 'bm': 'Did not match', 'bn': 'Did not match', 'bo': 'Did not match', 'bp': 'Did not match', 'bq': 'Did not match', 'br': 'Did not match', 'bs': 'Did not match', 'bt': 'Did not match', 'bu': 'Did not match', 'bv': 'Did not match', 'bw': 'Did not match', 'bx': 'Did not match', 'by': 'Did not match', 'bz': 'Did not match', 'ca': 'Did not match', 'cb': 'Did not match', 'cc': 'Did not match', 'cd': 'Did not match', 'ce': 'Did not match', 'cf': 'Did not match', 'cg': 'Did not match', 'ch': 'Did not match', 'ci': 'Did not match', 'cj': 'Did not match', 'ck': 'Did not match', 'cl': 'Did not match', 'cm': 'Did not match', 'cn': 'Did not match', 'co': 'Did not match', 'cp': 'Did not match', 'cq': 'Did not match', 'cr': 'Did not match', 'cs': 'Did not match', 'ct': 'Did not match', 'cu': 'Did not match', 'cv': 'Did not match', 'cw': 'Did not match', 'cx': 'Did not match', 'cy': 'Did not match', 'cz': 'Did not match', 'da': 'Did not match', 'db': 'Did not match', 'dc': 'Did not match', 'dd': 'Did not match', 'de': 'Did not match', 'df': 'Did not match', 'dg': 'Did not match', 'dh': 'Did not match', 'di': 'Did not match', 'dj': 'Did not match', 'dk': 'Did not match', 'dl': 'Did not match', 'dm': 'Did not match', 'dn': 'Did not match', 'do': 'Did not match', 'dp': 'Did not match', 'dq': 'Did not match', 'dr': 'Did not match', 'ds': 'Did not match', 'dt': 'Did not match', 'du': 'Did not match', 'dv': 'Did not match', 'dw': 'Did not match', 'dx': 'Did not match', 'dy': 'Did not match', 'dz': 'Did not match', 'ea': 'Did not match', 'eb': 'Did not match', 'ec': 'Did not match', 'ed': 'Did not match', 'ee': 'Did not match', 'ef': 'Did not match', 'eg': 'Did not match', 'eh': 'Did not match', 'ei': 'Did not match', 'ej': 'Did not match', 'ek': 'Did not match', 'el': 'Did not match', 'em': 'Did not match', 'en': 'Did not match', 'eo': 'Did not match', 'ep': 'Did not match', 'eq': 'Did not match', 'er': 'Did not match', 'es': 'Did not match', 'et': 'Did not match', 'eu': 'Did not match', 'ev': 'Did not match', 'ew': 'Did not match', 'ex': 'Did not match', 'ey': 'Did not match', 'ez': 'Did not match', 'fa': 'Did not match', 'fb': 'Did not match', 'fc': 'Did not match', 'fd': 'Did not match', 'fe': 'Did not match', 'ff': 'Did not match', 'fg': 'Did not match', 'fh': 'Did not match', 'fi': 'Did not match', 'fj': 'Did not match', 'fk': 'Did not match', 'fl': 'Did not match', 'fm': 'Did not match', 'fn': 'Did not match', 'fo': 'Did not match', 'fp': 'Did not match', 'fq': 'Did not match', 'fr': 'Did not match', 'fs': 'Did not match', 'ft': 'Did not match'}\n"
     ]
    }
   ],
   "source": [
    "from RothPeranson import MatchController\n",
    "import pandas as pd \n",
    "\n",
    "project_names_as_columns = pd.read_csv('projects_names_as_columns.csv')\n",
    "student_preferences = pd.read_csv('student_preferences.csv')\n",
    "\n",
    "test_match = MatchController(project_names_as_columns, student_preferences)\n",
    "\n",
    "test_match.start_match()\n",
    "results = test_match.results_dict()\n",
    "\n",
    "print(results)\n"
   ]
  },
  {
   "cell_type": "code",
   "execution_count": null,
   "metadata": {},
   "outputs": [],
   "source": []
  },
  {
   "cell_type": "code",
   "execution_count": null,
   "metadata": {},
   "outputs": [],
   "source": []
  }
 ],
 "metadata": {
  "kernelspec": {
   "display_name": "Python 3",
   "language": "python",
   "name": "python3"
  },
  "language_info": {
   "codemirror_mode": {
    "name": "ipython",
    "version": 3
   },
   "file_extension": ".py",
   "mimetype": "text/x-python",
   "name": "python",
   "nbconvert_exporter": "python",
   "pygments_lexer": "ipython3",
   "version": "3.6.6"
  }
 },
 "nbformat": 4,
 "nbformat_minor": 2
}
